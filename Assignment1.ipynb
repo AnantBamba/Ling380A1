{
 "cells": [
  {
   "cell_type": "markdown",
   "id": "f99f74e6-3a5e-4573-99d9-98decaaef7be",
   "metadata": {},
   "source": [
    "# Assignment 1 - Ling 380"
   ]
  },
  {
   "cell_type": "markdown",
   "id": "dbfb3e34-2e19-47a1-8f96-5ff976851a7f",
   "metadata": {},
   "source": [
    "| Name (Last,First) | Student ID | Section Contributed | Section Edited | Other Contributions |\n",
    "| --- | --- | --- | --- | --- |\n",
    "| Bamba, Anant | 301430478 | Data collection, Github setup, code | section 3 and 4 | Section 5 writeup\n",
    "| Bhullar, Harmeet | 301541206 | Data collection |\n"
   ]
  },
  {
   "cell_type": "code",
   "execution_count": 48,
   "id": "73976008-7dcd-412e-a26e-3ea31c1f83b9",
   "metadata": {},
   "outputs": [
    {
     "name": "stderr",
     "output_type": "stream",
     "text": [
      "[nltk_data] Downloading package punkt to /home/jupyter/nltk_data...\n",
      "[nltk_data]   Package punkt is already up-to-date!\n"
     ]
    },
    {
     "data": {
      "text/plain": [
       "True"
      ]
     },
     "execution_count": 48,
     "metadata": {},
     "output_type": "execute_result"
    }
   ],
   "source": [
    "import os\n",
    "import nltk\n",
    "from nltk.tokenize import word_tokenize\n",
    "\n",
    "nltk.download('punkt')"
   ]
  },
  {
   "cell_type": "markdown",
   "id": "d5611eda-b6b7-45d5-9cc3-c85cf98fdd27",
   "metadata": {},
   "source": [
    "# Section 1 AND 2 - Length & Lexical Diversity "
   ]
  },
  {
   "cell_type": "code",
   "execution_count": 49,
   "id": "98b8b9c6-1988-4532-8f75-3c6861bfeb87",
   "metadata": {},
   "outputs": [
    {
     "name": "stdout",
     "output_type": "stream",
     "text": [
      "File: OscarsNews.txt\n",
      "Length (tokens): 6157\n",
      "Lexical diversity: 0.2896\n",
      "File: Script.txt\n",
      "Length (tokens): 23538\n",
      "Lexical diversity: 0.1339\n",
      "File: recipes.txt\n",
      "Length (tokens): 10670\n",
      "Lexical diversity: 0.1619\n"
     ]
    }
   ],
   "source": [
    "def analyze_texts(directory):\n",
    "    for filename in os.listdir(directory):\n",
    "        if filename.endswith('.txt'):  \n",
    "            file_path = os.path.join(directory, filename)\n",
    "            with open(file_path, 'r', encoding='utf-8') as file:\n",
    "                text = file.read()  # Read the text from the file\n",
    "                \n",
    "                # Tokenization & Lexical Diversity\n",
    "                tokens = word_tokenize(text)\n",
    "                unique_tokens = set(tokens)\n",
    "                lexical_diversity = len(unique_tokens) / len(tokens)\n",
    "\n",
    "                print(f\"File: {filename}\")\n",
    "                print(f\"Length (tokens): {len(tokens)}\")\n",
    "                print(f\"Lexical diversity: {lexical_diversity:.4f}\")\n",
    "\n",
    "#Directory path\n",
    "data_directory = 'A1'\n",
    "analyze_texts(data_directory)"
   ]
  },
  {
   "cell_type": "markdown",
   "id": "d0c177da-ba9e-41e7-a1fe-e5dac4b05d2c",
   "metadata": {},
   "source": [
    "# Section 3 - FreqDist"
   ]
  },
  {
   "cell_type": "code",
   "execution_count": null,
   "id": "469c0471-cc93-472b-9eea-df1d7347a6d9",
   "metadata": {},
   "outputs": [],
   "source": []
  },
  {
   "cell_type": "markdown",
   "id": "a2f115ce-abb0-4702-ac3a-451000ae3a4e",
   "metadata": {},
   "source": [
    "# Section 4 - Named Entities"
   ]
  },
  {
   "cell_type": "code",
   "execution_count": null,
   "id": "6451cdba-799f-487c-85e7-9e8ceceaad06",
   "metadata": {},
   "outputs": [],
   "source": []
  },
  {
   "cell_type": "markdown",
   "id": "22f0cc65-2c93-4b61-b91e-2c9400ab3b83",
   "metadata": {},
   "source": [
    "# Section 5 - Writeup"
   ]
  },
  {
   "cell_type": "code",
   "execution_count": null,
   "id": "cd63b3df-8191-408c-ae26-338498701a04",
   "metadata": {},
   "outputs": [],
   "source": []
  },
  {
   "cell_type": "code",
   "execution_count": null,
   "id": "283db93d-ff8d-474f-b87b-54d705ece47f",
   "metadata": {},
   "outputs": [],
   "source": []
  }
 ],
 "metadata": {
  "kernelspec": {
   "display_name": "Python 3 (ipykernel)",
   "language": "python",
   "name": "python3"
  },
  "language_info": {
   "codemirror_mode": {
    "name": "ipython",
    "version": 3
   },
   "file_extension": ".py",
   "mimetype": "text/x-python",
   "name": "python",
   "nbconvert_exporter": "python",
   "pygments_lexer": "ipython3",
   "version": "3.12.8"
  }
 },
 "nbformat": 4,
 "nbformat_minor": 5
}
