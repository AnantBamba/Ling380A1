{
 "cells": [
  {
   "cell_type": "markdown",
   "id": "f99f74e6-3a5e-4573-99d9-98decaaef7be",
   "metadata": {},
   "source": [
    "# Assignment 1 - Ling 380"
   ]
  },
  {
   "cell_type": "markdown",
   "id": "dbfb3e34-2e19-47a1-8f96-5ff976851a7f",
   "metadata": {},
   "source": [
    "| Name (Last,First) | Student ID | Section Contributed | Section Edited | Other Contributions |\n",
    "| --- | --- | --- | --- | --- |\n",
    "| Bamba, Anant | 301430478 | Data collection, Github setup, code | section 3 and 4 | Section 5 writeup\n",
    "| Row 2, Cell 1 | Row 2, Cell 2 | Row 2, Cell 3 |\n"
   ]
  },
  {
   "cell_type": "markdown",
   "id": "d5611eda-b6b7-45d5-9cc3-c85cf98fdd27",
   "metadata": {},
   "source": [
    "# Section 1 - Length "
   ]
  },
  {
   "cell_type": "code",
   "execution_count": null,
   "id": "42fe031d-01e2-4f1a-bb46-d8c96448f20f",
   "metadata": {},
   "outputs": [],
   "source": []
  },
  {
   "cell_type": "markdown",
   "id": "e0173951-c6d5-4a1e-9083-f89e76b3e9ea",
   "metadata": {},
   "source": [
    "# Section 2 - Lexical Diversity"
   ]
  },
  {
   "cell_type": "code",
   "execution_count": null,
   "id": "54ba455f-29fc-4b8b-bcf5-9f55d1339282",
   "metadata": {},
   "outputs": [],
   "source": []
  },
  {
   "cell_type": "markdown",
   "id": "d0c177da-ba9e-41e7-a1fe-e5dac4b05d2c",
   "metadata": {},
   "source": [
    "# Section 3 - FreqDist"
   ]
  },
  {
   "cell_type": "code",
   "execution_count": null,
   "id": "469c0471-cc93-472b-9eea-df1d7347a6d9",
   "metadata": {},
   "outputs": [],
   "source": []
  },
  {
   "cell_type": "markdown",
   "id": "a2f115ce-abb0-4702-ac3a-451000ae3a4e",
   "metadata": {},
   "source": [
    "# Section 4 - Named Entities"
   ]
  },
  {
   "cell_type": "code",
   "execution_count": null,
   "id": "6451cdba-799f-487c-85e7-9e8ceceaad06",
   "metadata": {},
   "outputs": [],
   "source": []
  },
  {
   "cell_type": "markdown",
   "id": "22f0cc65-2c93-4b61-b91e-2c9400ab3b83",
   "metadata": {},
   "source": [
    "# Section 5 - Writeup"
   ]
  },
  {
   "cell_type": "code",
   "execution_count": null,
   "id": "cd63b3df-8191-408c-ae26-338498701a04",
   "metadata": {},
   "outputs": [],
   "source": []
  },
  {
   "cell_type": "code",
   "execution_count": null,
   "id": "283db93d-ff8d-474f-b87b-54d705ece47f",
   "metadata": {},
   "outputs": [],
   "source": []
  }
 ],
 "metadata": {
  "kernelspec": {
   "display_name": "Python 3 (ipykernel)",
   "language": "python",
   "name": "python3"
  },
  "language_info": {
   "codemirror_mode": {
    "name": "ipython",
    "version": 3
   },
   "file_extension": ".py",
   "mimetype": "text/x-python",
   "name": "python",
   "nbconvert_exporter": "python",
   "pygments_lexer": "ipython3",
   "version": "3.12.6"
  }
 },
 "nbformat": 4,
 "nbformat_minor": 5
}
